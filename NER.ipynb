{
  "metadata": {
    "kernelspec": {
      "language": "python",
      "display_name": "Python 3",
      "name": "python3"
    },
    "language_info": {
      "name": "python",
      "version": "3.11.11",
      "mimetype": "text/x-python",
      "codemirror_mode": {
        "name": "ipython",
        "version": 3
      },
      "pygments_lexer": "ipython3",
      "nbconvert_exporter": "python",
      "file_extension": ".py"
    },
    "kaggle": {
      "accelerator": "none",
      "dataSources": [
        {
          "sourceId": 11405249,
          "sourceType": "datasetVersion",
          "datasetId": 7144009
        }
      ],
      "dockerImageVersionId": 31012,
      "isInternetEnabled": true,
      "language": "python",
      "sourceType": "notebook",
      "isGpuEnabled": false
    },
    "colab": {
      "provenance": []
    }
  },
  "nbformat_minor": 0,
  "nbformat": 4,
  "cells": [
    {
      "cell_type": "code",
      "source": [
        "!pip install natasha rdflib"
      ],
      "metadata": {
        "trusted": true,
        "execution": {
          "iopub.status.busy": "2025-04-20T12:50:57.618809Z",
          "iopub.execute_input": "2025-04-20T12:50:57.619120Z",
          "iopub.status.idle": "2025-04-20T12:51:01.353641Z",
          "shell.execute_reply.started": "2025-04-20T12:50:57.619096Z",
          "shell.execute_reply": "2025-04-20T12:51:01.352575Z"
        },
        "scrolled": true,
        "id": "BqpdgykQ25es",
        "outputId": "362d313a-a240-4274-e3a3-b8886731f147"
      },
      "outputs": [
        {
          "name": "stdout",
          "text": "Requirement already satisfied: natasha in /usr/local/lib/python3.11/dist-packages (1.6.0)\nRequirement already satisfied: rdflib in /usr/local/lib/python3.11/dist-packages (7.1.4)\nRequirement already satisfied: pymorphy2 in /usr/local/lib/python3.11/dist-packages (from natasha) (0.9.1)\nRequirement already satisfied: razdel>=0.5.0 in /usr/local/lib/python3.11/dist-packages (from natasha) (0.5.0)\nRequirement already satisfied: navec>=0.9.0 in /usr/local/lib/python3.11/dist-packages (from natasha) (0.10.0)\nRequirement already satisfied: slovnet>=0.6.0 in /usr/local/lib/python3.11/dist-packages (from natasha) (0.6.0)\nRequirement already satisfied: yargy>=0.16.0 in /usr/local/lib/python3.11/dist-packages (from natasha) (0.16.0)\nRequirement already satisfied: ipymarkup>=0.8.0 in /usr/local/lib/python3.11/dist-packages (from natasha) (0.9.0)\nRequirement already satisfied: pyparsing<4,>=2.1.0 in /usr/local/lib/python3.11/dist-packages (from rdflib) (3.2.1)\nRequirement already satisfied: intervaltree>=3 in /usr/local/lib/python3.11/dist-packages (from ipymarkup>=0.8.0->natasha) (3.1.0)\nRequirement already satisfied: numpy in /usr/local/lib/python3.11/dist-packages (from navec>=0.9.0->natasha) (1.26.4)\nRequirement already satisfied: dawg-python>=0.7.1 in /usr/local/lib/python3.11/dist-packages (from pymorphy2->natasha) (0.7.2)\nRequirement already satisfied: pymorphy2-dicts-ru<3.0,>=2.4 in /usr/local/lib/python3.11/dist-packages (from pymorphy2->natasha) (2.4.417127.4579844)\nRequirement already satisfied: docopt>=0.6 in /usr/local/lib/python3.11/dist-packages (from pymorphy2->natasha) (0.6.2)\nRequirement already satisfied: sortedcontainers<3.0,>=2.0 in /usr/local/lib/python3.11/dist-packages (from intervaltree>=3->ipymarkup>=0.8.0->natasha) (2.4.0)\nRequirement already satisfied: mkl_fft in /usr/local/lib/python3.11/dist-packages (from numpy->navec>=0.9.0->natasha) (1.3.8)\nRequirement already satisfied: mkl_random in /usr/local/lib/python3.11/dist-packages (from numpy->navec>=0.9.0->natasha) (1.2.4)\nRequirement already satisfied: mkl_umath in /usr/local/lib/python3.11/dist-packages (from numpy->navec>=0.9.0->natasha) (0.1.1)\nRequirement already satisfied: mkl in /usr/local/lib/python3.11/dist-packages (from numpy->navec>=0.9.0->natasha) (2025.1.0)\nRequirement already satisfied: tbb4py in /usr/local/lib/python3.11/dist-packages (from numpy->navec>=0.9.0->natasha) (2022.1.0)\nRequirement already satisfied: mkl-service in /usr/local/lib/python3.11/dist-packages (from numpy->navec>=0.9.0->natasha) (2.4.1)\nRequirement already satisfied: intel-openmp<2026,>=2024 in /usr/local/lib/python3.11/dist-packages (from mkl->numpy->navec>=0.9.0->natasha) (2024.2.0)\nRequirement already satisfied: tbb==2022.* in /usr/local/lib/python3.11/dist-packages (from mkl->numpy->navec>=0.9.0->natasha) (2022.1.0)\nRequirement already satisfied: tcmlib==1.* in /usr/local/lib/python3.11/dist-packages (from tbb==2022.*->mkl->numpy->navec>=0.9.0->natasha) (1.2.0)\nRequirement already satisfied: intel-cmplr-lib-rt in /usr/local/lib/python3.11/dist-packages (from mkl_umath->numpy->navec>=0.9.0->natasha) (2024.2.0)\nRequirement already satisfied: intel-cmplr-lib-ur==2024.2.0 in /usr/local/lib/python3.11/dist-packages (from intel-openmp<2026,>=2024->mkl->numpy->navec>=0.9.0->natasha) (2024.2.0)\n",
          "output_type": "stream"
        }
      ],
      "execution_count": null
    },
    {
      "cell_type": "code",
      "source": [
        "!python -m spacy download ru_core_news_sm"
      ],
      "metadata": {
        "trusted": true,
        "execution": {
          "iopub.status.busy": "2025-04-20T12:51:01.355745Z",
          "iopub.execute_input": "2025-04-20T12:51:01.356011Z",
          "iopub.status.idle": "2025-04-20T12:51:11.263268Z",
          "shell.execute_reply.started": "2025-04-20T12:51:01.355989Z",
          "shell.execute_reply": "2025-04-20T12:51:11.262031Z"
        },
        "scrolled": true,
        "id": "76Uhqmx725eu",
        "outputId": "1aa2944a-db31-4037-fce3-ad16231088bd"
      },
      "outputs": [
        {
          "name": "stdout",
          "text": "Collecting ru-core-news-sm==3.7.0\n  Downloading https://github.com/explosion/spacy-models/releases/download/ru_core_news_sm-3.7.0/ru_core_news_sm-3.7.0-py3-none-any.whl (15.3 MB)\n\u001b[2K     \u001b[90m━━━━━━━━━━━━━━━━━━━━━━━━━━━━━━━━━━━━━━━━\u001b[0m \u001b[32m15.3/15.3 MB\u001b[0m \u001b[31m76.7 MB/s\u001b[0m eta \u001b[36m0:00:00\u001b[0m:00:01\u001b[0m:01\u001b[0m\n\u001b[?25hRequirement already satisfied: spacy<3.8.0,>=3.7.0 in /usr/local/lib/python3.11/dist-packages (from ru-core-news-sm==3.7.0) (3.7.5)\nRequirement already satisfied: pymorphy3>=1.0.0 in /usr/local/lib/python3.11/dist-packages (from ru-core-news-sm==3.7.0) (2.0.3)\nRequirement already satisfied: dawg2-python>=0.8.0 in /usr/local/lib/python3.11/dist-packages (from pymorphy3>=1.0.0->ru-core-news-sm==3.7.0) (0.9.0)\nRequirement already satisfied: pymorphy3-dicts-ru in /usr/local/lib/python3.11/dist-packages (from pymorphy3>=1.0.0->ru-core-news-sm==3.7.0) (2.4.417150.4580142)\nRequirement already satisfied: spacy-legacy<3.1.0,>=3.0.11 in /usr/local/lib/python3.11/dist-packages (from spacy<3.8.0,>=3.7.0->ru-core-news-sm==3.7.0) (3.0.12)\nRequirement already satisfied: spacy-loggers<2.0.0,>=1.0.0 in /usr/local/lib/python3.11/dist-packages (from spacy<3.8.0,>=3.7.0->ru-core-news-sm==3.7.0) (1.0.5)\nRequirement already satisfied: murmurhash<1.1.0,>=0.28.0 in /usr/local/lib/python3.11/dist-packages (from spacy<3.8.0,>=3.7.0->ru-core-news-sm==3.7.0) (1.0.12)\nRequirement already satisfied: cymem<2.1.0,>=2.0.2 in /usr/local/lib/python3.11/dist-packages (from spacy<3.8.0,>=3.7.0->ru-core-news-sm==3.7.0) (2.0.11)\nRequirement already satisfied: preshed<3.1.0,>=3.0.2 in /usr/local/lib/python3.11/dist-packages (from spacy<3.8.0,>=3.7.0->ru-core-news-sm==3.7.0) (3.0.9)\nRequirement already satisfied: thinc<8.3.0,>=8.2.2 in /usr/local/lib/python3.11/dist-packages (from spacy<3.8.0,>=3.7.0->ru-core-news-sm==3.7.0) (8.2.5)\nRequirement already satisfied: wasabi<1.2.0,>=0.9.1 in /usr/local/lib/python3.11/dist-packages (from spacy<3.8.0,>=3.7.0->ru-core-news-sm==3.7.0) (1.1.3)\nRequirement already satisfied: srsly<3.0.0,>=2.4.3 in /usr/local/lib/python3.11/dist-packages (from spacy<3.8.0,>=3.7.0->ru-core-news-sm==3.7.0) (2.5.1)\nRequirement already satisfied: catalogue<2.1.0,>=2.0.6 in /usr/local/lib/python3.11/dist-packages (from spacy<3.8.0,>=3.7.0->ru-core-news-sm==3.7.0) (2.0.10)\nRequirement already satisfied: weasel<0.5.0,>=0.1.0 in /usr/local/lib/python3.11/dist-packages (from spacy<3.8.0,>=3.7.0->ru-core-news-sm==3.7.0) (0.4.1)\nRequirement already satisfied: typer<1.0.0,>=0.3.0 in /usr/local/lib/python3.11/dist-packages (from spacy<3.8.0,>=3.7.0->ru-core-news-sm==3.7.0) (0.15.1)\nRequirement already satisfied: tqdm<5.0.0,>=4.38.0 in /usr/local/lib/python3.11/dist-packages (from spacy<3.8.0,>=3.7.0->ru-core-news-sm==3.7.0) (4.67.1)\nRequirement already satisfied: requests<3.0.0,>=2.13.0 in /usr/local/lib/python3.11/dist-packages (from spacy<3.8.0,>=3.7.0->ru-core-news-sm==3.7.0) (2.32.3)\nRequirement already satisfied: pydantic!=1.8,!=1.8.1,<3.0.0,>=1.7.4 in /usr/local/lib/python3.11/dist-packages (from spacy<3.8.0,>=3.7.0->ru-core-news-sm==3.7.0) (2.11.3)\nRequirement already satisfied: jinja2 in /usr/local/lib/python3.11/dist-packages (from spacy<3.8.0,>=3.7.0->ru-core-news-sm==3.7.0) (3.1.6)\nRequirement already satisfied: setuptools in /usr/local/lib/python3.11/dist-packages (from spacy<3.8.0,>=3.7.0->ru-core-news-sm==3.7.0) (75.1.0)\nRequirement already satisfied: packaging>=20.0 in /usr/local/lib/python3.11/dist-packages (from spacy<3.8.0,>=3.7.0->ru-core-news-sm==3.7.0) (24.2)\nRequirement already satisfied: langcodes<4.0.0,>=3.2.0 in /usr/local/lib/python3.11/dist-packages (from spacy<3.8.0,>=3.7.0->ru-core-news-sm==3.7.0) (3.5.0)\nRequirement already satisfied: numpy>=1.19.0 in /usr/local/lib/python3.11/dist-packages (from spacy<3.8.0,>=3.7.0->ru-core-news-sm==3.7.0) (1.26.4)\nRequirement already satisfied: language-data>=1.2 in /usr/local/lib/python3.11/dist-packages (from langcodes<4.0.0,>=3.2.0->spacy<3.8.0,>=3.7.0->ru-core-news-sm==3.7.0) (1.3.0)\nRequirement already satisfied: mkl_fft in /usr/local/lib/python3.11/dist-packages (from numpy>=1.19.0->spacy<3.8.0,>=3.7.0->ru-core-news-sm==3.7.0) (1.3.8)\nRequirement already satisfied: mkl_random in /usr/local/lib/python3.11/dist-packages (from numpy>=1.19.0->spacy<3.8.0,>=3.7.0->ru-core-news-sm==3.7.0) (1.2.4)\nRequirement already satisfied: mkl_umath in /usr/local/lib/python3.11/dist-packages (from numpy>=1.19.0->spacy<3.8.0,>=3.7.0->ru-core-news-sm==3.7.0) (0.1.1)\nRequirement already satisfied: mkl in /usr/local/lib/python3.11/dist-packages (from numpy>=1.19.0->spacy<3.8.0,>=3.7.0->ru-core-news-sm==3.7.0) (2025.1.0)\nRequirement already satisfied: tbb4py in /usr/local/lib/python3.11/dist-packages (from numpy>=1.19.0->spacy<3.8.0,>=3.7.0->ru-core-news-sm==3.7.0) (2022.1.0)\nRequirement already satisfied: mkl-service in /usr/local/lib/python3.11/dist-packages (from numpy>=1.19.0->spacy<3.8.0,>=3.7.0->ru-core-news-sm==3.7.0) (2.4.1)\nRequirement already satisfied: annotated-types>=0.6.0 in /usr/local/lib/python3.11/dist-packages (from pydantic!=1.8,!=1.8.1,<3.0.0,>=1.7.4->spacy<3.8.0,>=3.7.0->ru-core-news-sm==3.7.0) (0.7.0)\nRequirement already satisfied: pydantic-core==2.33.1 in /usr/local/lib/python3.11/dist-packages (from pydantic!=1.8,!=1.8.1,<3.0.0,>=1.7.4->spacy<3.8.0,>=3.7.0->ru-core-news-sm==3.7.0) (2.33.1)\nRequirement already satisfied: typing-extensions>=4.12.2 in /usr/local/lib/python3.11/dist-packages (from pydantic!=1.8,!=1.8.1,<3.0.0,>=1.7.4->spacy<3.8.0,>=3.7.0->ru-core-news-sm==3.7.0) (4.13.1)\nRequirement already satisfied: typing-inspection>=0.4.0 in /usr/local/lib/python3.11/dist-packages (from pydantic!=1.8,!=1.8.1,<3.0.0,>=1.7.4->spacy<3.8.0,>=3.7.0->ru-core-news-sm==3.7.0) (0.4.0)\nRequirement already satisfied: charset-normalizer<4,>=2 in /usr/local/lib/python3.11/dist-packages (from requests<3.0.0,>=2.13.0->spacy<3.8.0,>=3.7.0->ru-core-news-sm==3.7.0) (3.4.1)\nRequirement already satisfied: idna<4,>=2.5 in /usr/local/lib/python3.11/dist-packages (from requests<3.0.0,>=2.13.0->spacy<3.8.0,>=3.7.0->ru-core-news-sm==3.7.0) (3.10)\nRequirement already satisfied: urllib3<3,>=1.21.1 in /usr/local/lib/python3.11/dist-packages (from requests<3.0.0,>=2.13.0->spacy<3.8.0,>=3.7.0->ru-core-news-sm==3.7.0) (2.3.0)\nRequirement already satisfied: certifi>=2017.4.17 in /usr/local/lib/python3.11/dist-packages (from requests<3.0.0,>=2.13.0->spacy<3.8.0,>=3.7.0->ru-core-news-sm==3.7.0) (2025.1.31)\nRequirement already satisfied: blis<0.8.0,>=0.7.8 in /usr/local/lib/python3.11/dist-packages (from thinc<8.3.0,>=8.2.2->spacy<3.8.0,>=3.7.0->ru-core-news-sm==3.7.0) (0.7.11)\nRequirement already satisfied: confection<1.0.0,>=0.0.1 in /usr/local/lib/python3.11/dist-packages (from thinc<8.3.0,>=8.2.2->spacy<3.8.0,>=3.7.0->ru-core-news-sm==3.7.0) (0.1.5)\nRequirement already satisfied: click>=8.0.0 in /usr/local/lib/python3.11/dist-packages (from typer<1.0.0,>=0.3.0->spacy<3.8.0,>=3.7.0->ru-core-news-sm==3.7.0) (8.1.8)\nRequirement already satisfied: shellingham>=1.3.0 in /usr/local/lib/python3.11/dist-packages (from typer<1.0.0,>=0.3.0->spacy<3.8.0,>=3.7.0->ru-core-news-sm==3.7.0) (1.5.4)\nRequirement already satisfied: rich>=10.11.0 in /usr/local/lib/python3.11/dist-packages (from typer<1.0.0,>=0.3.0->spacy<3.8.0,>=3.7.0->ru-core-news-sm==3.7.0) (14.0.0)\nRequirement already satisfied: cloudpathlib<1.0.0,>=0.7.0 in /usr/local/lib/python3.11/dist-packages (from weasel<0.5.0,>=0.1.0->spacy<3.8.0,>=3.7.0->ru-core-news-sm==3.7.0) (0.20.0)\nRequirement already satisfied: smart-open<8.0.0,>=5.2.1 in /usr/local/lib/python3.11/dist-packages (from weasel<0.5.0,>=0.1.0->spacy<3.8.0,>=3.7.0->ru-core-news-sm==3.7.0) (7.1.0)\nRequirement already satisfied: MarkupSafe>=2.0 in /usr/local/lib/python3.11/dist-packages (from jinja2->spacy<3.8.0,>=3.7.0->ru-core-news-sm==3.7.0) (3.0.2)\nRequirement already satisfied: marisa-trie>=1.1.0 in /usr/local/lib/python3.11/dist-packages (from language-data>=1.2->langcodes<4.0.0,>=3.2.0->spacy<3.8.0,>=3.7.0->ru-core-news-sm==3.7.0) (1.2.1)\nRequirement already satisfied: markdown-it-py>=2.2.0 in /usr/local/lib/python3.11/dist-packages (from rich>=10.11.0->typer<1.0.0,>=0.3.0->spacy<3.8.0,>=3.7.0->ru-core-news-sm==3.7.0) (3.0.0)\nRequirement already satisfied: pygments<3.0.0,>=2.13.0 in /usr/local/lib/python3.11/dist-packages (from rich>=10.11.0->typer<1.0.0,>=0.3.0->spacy<3.8.0,>=3.7.0->ru-core-news-sm==3.7.0) (2.19.1)\nRequirement already satisfied: wrapt in /usr/local/lib/python3.11/dist-packages (from smart-open<8.0.0,>=5.2.1->weasel<0.5.0,>=0.1.0->spacy<3.8.0,>=3.7.0->ru-core-news-sm==3.7.0) (1.17.2)\nRequirement already satisfied: intel-openmp<2026,>=2024 in /usr/local/lib/python3.11/dist-packages (from mkl->numpy>=1.19.0->spacy<3.8.0,>=3.7.0->ru-core-news-sm==3.7.0) (2024.2.0)\nRequirement already satisfied: tbb==2022.* in /usr/local/lib/python3.11/dist-packages (from mkl->numpy>=1.19.0->spacy<3.8.0,>=3.7.0->ru-core-news-sm==3.7.0) (2022.1.0)\nRequirement already satisfied: tcmlib==1.* in /usr/local/lib/python3.11/dist-packages (from tbb==2022.*->mkl->numpy>=1.19.0->spacy<3.8.0,>=3.7.0->ru-core-news-sm==3.7.0) (1.2.0)\nRequirement already satisfied: intel-cmplr-lib-rt in /usr/local/lib/python3.11/dist-packages (from mkl_umath->numpy>=1.19.0->spacy<3.8.0,>=3.7.0->ru-core-news-sm==3.7.0) (2024.2.0)\nRequirement already satisfied: intel-cmplr-lib-ur==2024.2.0 in /usr/local/lib/python3.11/dist-packages (from intel-openmp<2026,>=2024->mkl->numpy>=1.19.0->spacy<3.8.0,>=3.7.0->ru-core-news-sm==3.7.0) (2024.2.0)\nRequirement already satisfied: mdurl~=0.1 in /usr/local/lib/python3.11/dist-packages (from markdown-it-py>=2.2.0->rich>=10.11.0->typer<1.0.0,>=0.3.0->spacy<3.8.0,>=3.7.0->ru-core-news-sm==3.7.0) (0.1.2)\n\u001b[38;5;2m✔ Download and installation successful\u001b[0m\nYou can now load the package via spacy.load('ru_core_news_sm')\n\u001b[38;5;3m⚠ Restart to reload dependencies\u001b[0m\nIf you are in a Jupyter or Colab notebook, you may need to restart Python in\norder to load all the package's dependencies. You can do this by selecting the\n'Restart kernel' or 'Restart runtime' option.\n",
          "output_type": "stream"
        }
      ],
      "execution_count": null
    },
    {
      "cell_type": "code",
      "source": [
        "import pandas as pd\n",
        "from natasha import Segmenter, MorphVocab, NewsEmbedding, NewsMorphTagger, NewsNERTagger, Doc\n",
        "\n",
        "df = pd.read_excel(\"/kaggle/input/rbc-news-f/rbc_news_firts_week.xlsx\")\n",
        "texts = df[\"text\"].tolist()\n",
        "\n",
        "segmenter = Segmenter()\n",
        "morph_vocab = MorphVocab()\n",
        "emb = NewsEmbedding()\n",
        "morph_tagger = NewsMorphTagger(emb)\n",
        "ner_tagger = NewsNERTagger(emb)\n",
        "\n",
        "ner_results = []\n",
        "\n",
        "for text in texts:\n",
        "    if not isinstance(text, str) or not text.strip():\n",
        "        ner_results.append({\"text\": text, \"entities\": []})\n",
        "        continue\n",
        "\n",
        "    doc = Doc(text)\n",
        "    doc.segment(segmenter)\n",
        "    doc.tag_morph(morph_tagger)\n",
        "    for token in doc.tokens:\n",
        "        token.lemmatize(morph_vocab)\n",
        "    doc.tag_ner(ner_tagger)\n",
        "\n",
        "    entities = []\n",
        "    for span in doc.spans:\n",
        "        if span.type == 'ORG':\n",
        "            normal_form = span.text\n",
        "        else:\n",
        "            tokens = span.tokens\n",
        "            lemmas = [token.lemma for token in tokens]\n",
        "            normal_form = ' '.join(lemmas)\n",
        "        entities.append({\n",
        "            \"text\": span.text,\n",
        "            \"type\": span.type,\n",
        "            \"normal_form\": normal_form\n",
        "        })\n",
        "    ner_results.append({\"text\": text, \"entities\": entities})\n",
        "\n",
        "all_entities = []\n",
        "for result in ner_results:\n",
        "    for entity in result[\"entities\"]:\n",
        "        all_entities.append({\n",
        "            \"text\": result[\"text\"],\n",
        "            \"entity_text\": entity[\"text\"],\n",
        "            \"entity_type\": entity[\"type\"],\n",
        "            \"entity_normal_form\": entity[\"normal_form\"]\n",
        "        })\n",
        "\n",
        "df_ner = pd.DataFrame(all_entities)\n",
        "df_ner.to_csv(\"ner_results.csv\", index=False)"
      ],
      "metadata": {
        "trusted": true,
        "execution": {
          "iopub.status.busy": "2025-04-20T12:51:11.264812Z",
          "iopub.execute_input": "2025-04-20T12:51:11.265237Z",
          "iopub.status.idle": "2025-04-20T12:51:59.803615Z",
          "shell.execute_reply.started": "2025-04-20T12:51:11.265206Z",
          "shell.execute_reply": "2025-04-20T12:51:59.802491Z"
        },
        "id": "7nbqkWB425ev"
      },
      "outputs": [],
      "execution_count": null
    },
    {
      "cell_type": "code",
      "source": [
        "a = pd.read_csv('/kaggle/working/ner_results.csv')\n",
        "a"
      ],
      "metadata": {
        "trusted": true,
        "execution": {
          "iopub.status.busy": "2025-04-20T12:55:19.956984Z",
          "iopub.execute_input": "2025-04-20T12:55:19.957303Z",
          "iopub.status.idle": "2025-04-20T12:55:21.865900Z",
          "shell.execute_reply.started": "2025-04-20T12:55:19.957273Z",
          "shell.execute_reply": "2025-04-20T12:55:21.864941Z"
        },
        "id": "oOjrKZ_o25ew",
        "outputId": "b3f387be-3fee-42d4-b552-bca3b6e1df23"
      },
      "outputs": [
        {
          "execution_count": 7,
          "output_type": "execute_result",
          "data": {
            "text/plain": "                                                    text       entity_text  \\\n0      Взрыв газа произошел в одной из квартир пятиэт...      Луначарского   \n1      Взрыв газа произошел в одной из квартир пятиэт...     Петрозаводске   \n2      Взрыв газа произошел в одной из квартир пятиэт...       РИА Новости   \n3      Взрыв газа произошел в одной из квартир пятиэт...               МЧС   \n4      Взрыв газа произошел в одной из квартир пятиэт...            РЕН ТВ   \n...                                                  ...               ...   \n28790  Патриарх Московский и всея Руси Кирилл в Рожде...  Санкт-Петербурга   \n28791  Патриарх Московский и всея Руси Кирилл в Рожде...         Рэй Далио   \n28792  Патриарх Московский и всея Руси Кирилл в Рожде...               США   \n28793  Патриарх Московский и всея Руси Кирилл в Рожде...            Трампа   \n28794  Патриарх Московский и всея Руси Кирилл в Рожде...            Россию   \n\n      entity_type entity_normal_form  \n0             LOC        луначарский  \n1             LOC       петрозаводск  \n2             ORG        РИА Новости  \n3             ORG                МЧС  \n4             ORG             РЕН ТВ  \n...           ...                ...  \n28790         LOC    санкт-петербург  \n28791         PER          рэй далио  \n28792         LOC                сша  \n28793         PER              трамп  \n28794         LOC             россия  \n\n[28795 rows x 4 columns]",
            "text/html": "<div>\n<style scoped>\n    .dataframe tbody tr th:only-of-type {\n        vertical-align: middle;\n    }\n\n    .dataframe tbody tr th {\n        vertical-align: top;\n    }\n\n    .dataframe thead th {\n        text-align: right;\n    }\n</style>\n<table border=\"1\" class=\"dataframe\">\n  <thead>\n    <tr style=\"text-align: right;\">\n      <th></th>\n      <th>text</th>\n      <th>entity_text</th>\n      <th>entity_type</th>\n      <th>entity_normal_form</th>\n    </tr>\n  </thead>\n  <tbody>\n    <tr>\n      <th>0</th>\n      <td>Взрыв газа произошел в одной из квартир пятиэт...</td>\n      <td>Луначарского</td>\n      <td>LOC</td>\n      <td>луначарский</td>\n    </tr>\n    <tr>\n      <th>1</th>\n      <td>Взрыв газа произошел в одной из квартир пятиэт...</td>\n      <td>Петрозаводске</td>\n      <td>LOC</td>\n      <td>петрозаводск</td>\n    </tr>\n    <tr>\n      <th>2</th>\n      <td>Взрыв газа произошел в одной из квартир пятиэт...</td>\n      <td>РИА Новости</td>\n      <td>ORG</td>\n      <td>РИА Новости</td>\n    </tr>\n    <tr>\n      <th>3</th>\n      <td>Взрыв газа произошел в одной из квартир пятиэт...</td>\n      <td>МЧС</td>\n      <td>ORG</td>\n      <td>МЧС</td>\n    </tr>\n    <tr>\n      <th>4</th>\n      <td>Взрыв газа произошел в одной из квартир пятиэт...</td>\n      <td>РЕН ТВ</td>\n      <td>ORG</td>\n      <td>РЕН ТВ</td>\n    </tr>\n    <tr>\n      <th>...</th>\n      <td>...</td>\n      <td>...</td>\n      <td>...</td>\n      <td>...</td>\n    </tr>\n    <tr>\n      <th>28790</th>\n      <td>Патриарх Московский и всея Руси Кирилл в Рожде...</td>\n      <td>Санкт-Петербурга</td>\n      <td>LOC</td>\n      <td>санкт-петербург</td>\n    </tr>\n    <tr>\n      <th>28791</th>\n      <td>Патриарх Московский и всея Руси Кирилл в Рожде...</td>\n      <td>Рэй Далио</td>\n      <td>PER</td>\n      <td>рэй далио</td>\n    </tr>\n    <tr>\n      <th>28792</th>\n      <td>Патриарх Московский и всея Руси Кирилл в Рожде...</td>\n      <td>США</td>\n      <td>LOC</td>\n      <td>сша</td>\n    </tr>\n    <tr>\n      <th>28793</th>\n      <td>Патриарх Московский и всея Руси Кирилл в Рожде...</td>\n      <td>Трампа</td>\n      <td>PER</td>\n      <td>трамп</td>\n    </tr>\n    <tr>\n      <th>28794</th>\n      <td>Патриарх Московский и всея Руси Кирилл в Рожде...</td>\n      <td>Россию</td>\n      <td>LOC</td>\n      <td>россия</td>\n    </tr>\n  </tbody>\n</table>\n<p>28795 rows × 4 columns</p>\n</div>"
          },
          "metadata": {}
        }
      ],
      "execution_count": null
    },
    {
      "cell_type": "code",
      "source": [
        "import pandas as pd\n",
        "import requests\n",
        "import time\n",
        "\n",
        "def get_wikidata_id(entity_normal_form, entity_type, lang='ru'):\n",
        "    url = 'https://www.wikidata.org/w/api.php'\n",
        "    params = {\n",
        "        'action': 'wbsearchentities',\n",
        "        'search': entity_normal_form,\n",
        "        'language': lang,\n",
        "        'format': 'json'\n",
        "    }\n",
        "    try:\n",
        "        response = requests.get(url, params=params)\n",
        "        response.raise_for_status()\n",
        "        data = response.json()\n",
        "        return data['search'][0]['id'] if data.get('search') else None\n",
        "    except Exception as e:\n",
        "        print(f\"Ошибка при запросе для {entity_text}: {e}\")\n",
        "        return None\n",
        "\n",
        "df_ner = pd.read_csv(\"ner_results.csv\")\n",
        "\n",
        "nel_data = []\n",
        "\n",
        "# Process the first 5 entities\n",
        "for idx, row in df_ner.iloc[:5].iterrows():\n",
        "    entity_text = row['entity_text']\n",
        "    entity_type = row['entity_normal_form']\n",
        "    qid = get_wikidata_id(entity_type, entity_type)\n",
        "    nel_data.append({\n",
        "        'original_text': row['text'],\n",
        "        'entity_text': entity_text,\n",
        "        'entity_normal_form': entity_type,\n",
        "        'wikidata_qid': qid\n",
        "    })\n",
        "    time.sleep(1)\n",
        "\n",
        "df_nel = pd.DataFrame(nel_data)\n",
        "df_nel.to_csv(\"nel_results.csv\", index=False)"
      ],
      "metadata": {
        "trusted": true,
        "execution": {
          "iopub.status.busy": "2025-04-20T12:55:44.459280Z",
          "iopub.execute_input": "2025-04-20T12:55:44.459570Z",
          "iopub.status.idle": "2025-04-20T12:55:52.144833Z",
          "shell.execute_reply.started": "2025-04-20T12:55:44.459551Z",
          "shell.execute_reply": "2025-04-20T12:55:52.143822Z"
        },
        "id": "t56o5Xwr25ew"
      },
      "outputs": [],
      "execution_count": null
    },
    {
      "cell_type": "code",
      "source": [
        "df_nel"
      ],
      "metadata": {
        "trusted": true,
        "execution": {
          "iopub.status.busy": "2025-04-20T15:14:06.114119Z",
          "iopub.execute_input": "2025-04-20T15:14:06.114542Z",
          "iopub.status.idle": "2025-04-20T15:14:06.132911Z",
          "shell.execute_reply.started": "2025-04-20T15:14:06.114514Z",
          "shell.execute_reply": "2025-04-20T15:14:06.131658Z"
        },
        "id": "yPbr7HDx25ex",
        "outputId": "97b80c9a-a0fe-404a-be8e-74842a9d245e"
      },
      "outputs": [
        {
          "execution_count": 26,
          "output_type": "execute_result",
          "data": {
            "text/plain": "                                       original_text    entity_text  \\\n0  Взрыв газа произошел в одной из квартир пятиэт...   Луначарского   \n1  Взрыв газа произошел в одной из квартир пятиэт...  Петрозаводске   \n2  Взрыв газа произошел в одной из квартир пятиэт...    РИА Новости   \n3  Взрыв газа произошел в одной из квартир пятиэт...            МЧС   \n4  Взрыв газа произошел в одной из квартир пятиэт...         РЕН ТВ   \n\n  entity_normal_form wikidata_qid  \n0        луначарский      Q747751  \n1       петрозаводск        Q1895  \n2        РИА Новости      Q821172  \n3                МЧС     Q2624171  \n4             РЕН ТВ     Q1479649  ",
            "text/html": "<div>\n<style scoped>\n    .dataframe tbody tr th:only-of-type {\n        vertical-align: middle;\n    }\n\n    .dataframe tbody tr th {\n        vertical-align: top;\n    }\n\n    .dataframe thead th {\n        text-align: right;\n    }\n</style>\n<table border=\"1\" class=\"dataframe\">\n  <thead>\n    <tr style=\"text-align: right;\">\n      <th></th>\n      <th>original_text</th>\n      <th>entity_text</th>\n      <th>entity_normal_form</th>\n      <th>wikidata_qid</th>\n    </tr>\n  </thead>\n  <tbody>\n    <tr>\n      <th>0</th>\n      <td>Взрыв газа произошел в одной из квартир пятиэт...</td>\n      <td>Луначарского</td>\n      <td>луначарский</td>\n      <td>Q747751</td>\n    </tr>\n    <tr>\n      <th>1</th>\n      <td>Взрыв газа произошел в одной из квартир пятиэт...</td>\n      <td>Петрозаводске</td>\n      <td>петрозаводск</td>\n      <td>Q1895</td>\n    </tr>\n    <tr>\n      <th>2</th>\n      <td>Взрыв газа произошел в одной из квартир пятиэт...</td>\n      <td>РИА Новости</td>\n      <td>РИА Новости</td>\n      <td>Q821172</td>\n    </tr>\n    <tr>\n      <th>3</th>\n      <td>Взрыв газа произошел в одной из квартир пятиэт...</td>\n      <td>МЧС</td>\n      <td>МЧС</td>\n      <td>Q2624171</td>\n    </tr>\n    <tr>\n      <th>4</th>\n      <td>Взрыв газа произошел в одной из квартир пятиэт...</td>\n      <td>РЕН ТВ</td>\n      <td>РЕН ТВ</td>\n      <td>Q1479649</td>\n    </tr>\n  </tbody>\n</table>\n</div>"
          },
          "metadata": {}
        }
      ],
      "execution_count": null
    },
    {
      "cell_type": "code",
      "source": [
        "dfa = pd.read_excel('/kaggle/input/rbc-news-f/rbc_news_firts_week.xlsx')\n",
        "df = dfa.head(1)"
      ],
      "metadata": {
        "trusted": true,
        "execution": {
          "iopub.status.busy": "2025-04-20T12:56:55.302040Z",
          "iopub.execute_input": "2025-04-20T12:56:55.302382Z",
          "iopub.status.idle": "2025-04-20T12:56:55.617482Z",
          "shell.execute_reply.started": "2025-04-20T12:56:55.302356Z",
          "shell.execute_reply": "2025-04-20T12:56:55.616581Z"
        },
        "id": "lsTsLM6325ex"
      },
      "outputs": [],
      "execution_count": null
    },
    {
      "cell_type": "code",
      "source": [
        "from rdflib import Graph, URIRef, Literal, Namespace\n",
        "from rdflib.namespace import RDF, RDFS, XSD\n",
        "from urllib.parse import quote\n",
        "import hashlib\n",
        "\n",
        "WD = Namespace(\"http://www.wikidata.org/entity/\")\n",
        "SCHEMA = Namespace(\"http://schema.org/\")\n",
        "NST = Namespace(\"http://example.org/ns/\")\n",
        "\n",
        "def create_rdf_graph(nel_csv_path, output_path=\"knowledge_graph.ttl\"):\n",
        "    g = Graph()\n",
        "    g.bind(\"wd\", WD)\n",
        "    g.bind(\"schema\", SCHEMA)\n",
        "    g.bind(\"nst\", NST)\n",
        "\n",
        "    for idx, row in df_nel.iterrows():\n",
        "        if pd.notna(row['wikidata_qid']):\n",
        "            entity_uri = URIRef(WD[row['wikidata_qid']])\n",
        "\n",
        "            class_name = quote(row['entity_normal_form'].strip().replace(' ', '_'), safe='')\n",
        "            class_uri = NST[class_name]\n",
        "\n",
        "            g.add((entity_uri, RDF.type, class_uri))\n",
        "\n",
        "            text_hash = hashlib.md5(row['original_text'].encode()).hexdigest()\n",
        "            doc_uri = URIRef(f\"http://example.org/news/{text_hash}\")\n",
        "\n",
        "            g.add((doc_uri, RDF.type, SCHEMA.NewsArticle))\n",
        "            g.add((doc_uri, SCHEMA.text, Literal(row['original_text'], lang=\"ru\")))\n",
        "            g.add((doc_uri, SCHEMA.mentions, entity_uri))\n",
        "\n",
        "            g.add((entity_uri, SCHEMA.name, Literal(row['entity_text'], lang=\"ru\")))\n",
        "            g.add((entity_uri, NST.normalizedForm, Literal(row['entity_normal_form'])))\n",
        "\n",
        "    g.serialize(destination=output_path, format=\"turtle\")\n",
        "    print(f\"Knowledge Graph saved to {output_path}\")\n",
        "    return g\n",
        "\n",
        "create_rdf_graph(\"nel_results.csv\")"
      ],
      "metadata": {
        "trusted": true,
        "execution": {
          "iopub.status.busy": "2025-04-20T13:29:32.166332Z",
          "iopub.execute_input": "2025-04-20T13:29:32.166640Z",
          "iopub.status.idle": "2025-04-20T13:29:32.186970Z",
          "shell.execute_reply.started": "2025-04-20T13:29:32.166616Z",
          "shell.execute_reply": "2025-04-20T13:29:32.185534Z"
        },
        "id": "jUHELziT25ey",
        "outputId": "05014465-7241-4836-8e97-ef3160bd16ba"
      },
      "outputs": [
        {
          "name": "stdout",
          "text": "Knowledge Graph saved to knowledge_graph.ttl\n",
          "output_type": "stream"
        },
        {
          "execution_count": 13,
          "output_type": "execute_result",
          "data": {
            "text/plain": "<Graph identifier=Ndfeb74cad4344fd7ab90879067b04296 (<class 'rdflib.graph.Graph'>)>"
          },
          "metadata": {}
        }
      ],
      "execution_count": null
    },
    {
      "cell_type": "code",
      "source": [
        "from pyvis.network import Network\n",
        "from rdflib import Graph, URIRef, Literal\n",
        "from urllib.parse import urlparse, unquote\n",
        "\n",
        "g = Graph()\n",
        "g.parse(\"knowledge_graph.ttl\", format=\"turtle\")\n",
        "\n",
        "net = Network(notebook=True, height=\"750px\", width=\"100%\", directed=True)\n",
        "\n",
        "predicate_labels = {\n",
        "    str(RDF.type): \"is a\",\n",
        "    str(SCHEMA.mentions): \"mentions\",\n",
        "    str(SCHEMA.name): \"name\",\n",
        "    str(NST.normalizedForm): \"normalized form\"\n",
        "}\n",
        "\n",
        "labels_cache = {}\n",
        "\n",
        "def get_clean_label(uri_or_literal):\n",
        "    if isinstance(uri_or_literal, Literal):\n",
        "        return str(uri_or_literal)\n",
        "\n",
        "    if uri_or_literal in labels_cache:\n",
        "        return labels_cache[uri_or_literal]\n",
        "\n",
        "    parsed = urlparse(str(uri_or_literal))\n",
        "    fragments = parsed.path.split('/')\n",
        "    label = fragments[-1].split('#')[-1]\n",
        "\n",
        "    label = unquote(label)\n",
        "\n",
        "    label = label.replace('_', ' ').replace('+', ' ')\n",
        "\n",
        "    labels_cache[uri_or_literal] = label\n",
        "    return label\n",
        "\n",
        "for s, p, o in g:\n",
        "    if isinstance(s, URIRef):\n",
        "        s_label = get_clean_label(s)\n",
        "        if \"wikidata.org\" in str(s):\n",
        "            node_type = \"ellipse\"\n",
        "            title = f\"Wikidata Entity: {s}\"\n",
        "        else:\n",
        "            node_type = \"box\"\n",
        "            title = f\"Document: {s}\"\n",
        "        net.add_node(str(s), label=s_label, title=title, shape=node_type)\n",
        "\n",
        "    if isinstance(o, URIRef):\n",
        "        o_label = get_clean_label(o)\n",
        "        net.add_node(str(o), label=o_label, title=str(o), shape=\"ellipse\")\n",
        "\n",
        "for s, p, o in g:\n",
        "    if isinstance(s, URIRef) and isinstance(o, URIRef):\n",
        "        edge_label = predicate_labels.get(str(p), get_clean_label(p))\n",
        "        net.add_edge(str(s), str(o), label=edge_label, title=str(p))\n",
        "\n",
        "net.toggle_hide_edges_on_drag(True)\n",
        "net.set_options(\"\"\"\n",
        "{\n",
        "  \"physics\": {\n",
        "    \"stabilization\": {\n",
        "      \"iterations\": 100\n",
        "    },\n",
        "    \"timestep\": 0.5\n",
        "  },\n",
        "  \"nodes\": {\n",
        "    \"font\": {\n",
        "      \"size\": 14\n",
        "    }\n",
        "  },\n",
        "  \"edges\": {\n",
        "    \"arrows\": {\n",
        "      \"to\": {\n",
        "        \"enabled\": true,\n",
        "        \"scaleFactor\": 0.5\n",
        "      }\n",
        "    },\n",
        "    \"smooth\": false\n",
        "  }\n",
        "}\n",
        "\"\"\")\n",
        "\n",
        "net.show(\"knowledge_graph.html\")"
      ],
      "metadata": {
        "trusted": true,
        "execution": {
          "iopub.status.busy": "2025-04-20T14:05:12.019921Z",
          "iopub.execute_input": "2025-04-20T14:05:12.021163Z",
          "iopub.status.idle": "2025-04-20T14:05:12.063752Z",
          "shell.execute_reply.started": "2025-04-20T14:05:12.021126Z",
          "shell.execute_reply": "2025-04-20T14:05:12.062737Z"
        },
        "id": "4h_djgPY25ey",
        "outputId": "8eb54c8f-d206-407a-b399-6085df4b6a88"
      },
      "outputs": [
        {
          "name": "stdout",
          "text": "Warning: When  cdn_resources is 'local' jupyter notebook has issues displaying graphics on chrome/safari. Use cdn_resources='in_line' or cdn_resources='remote' if you have issues viewing graphics in a notebook.\nknowledge_graph.html\n",
          "output_type": "stream"
        },
        {
          "execution_count": 20,
          "output_type": "execute_result",
          "data": {
            "text/plain": "<IPython.lib.display.IFrame at 0x7f8ad6e89250>",
            "text/html": "\n        <iframe\n            width=\"100%\"\n            height=\"750px\"\n            src=\"knowledge_graph.html\"\n            frameborder=\"0\"\n            allowfullscreen\n            \n        ></iframe>\n        "
          },
          "metadata": {}
        }
      ],
      "execution_count": null
    },
    {
      "cell_type": "code",
      "source": [
        "df_nel"
      ],
      "metadata": {
        "trusted": true,
        "execution": {
          "iopub.status.busy": "2025-04-19T07:06:54.450867Z",
          "iopub.execute_input": "2025-04-19T07:06:54.451555Z",
          "iopub.status.idle": "2025-04-19T07:06:54.466387Z",
          "shell.execute_reply.started": "2025-04-19T07:06:54.451526Z",
          "shell.execute_reply": "2025-04-19T07:06:54.465535Z"
        },
        "id": "wDMbRiA725e2",
        "outputId": "78b449f6-aa9c-4cfb-c5fe-382d9bbf7267"
      },
      "outputs": [
        {
          "execution_count": 11,
          "output_type": "execute_result",
          "data": {
            "text/plain": "                                        original_text         entity_text  \\\n0   Взрыв газа произошел в одной из квартир пятиэт...        Луначарского   \n1   Взрыв газа произошел в одной из квартир пятиэт...       Петрозаводске   \n2   Взрыв газа произошел в одной из квартир пятиэт...         РИА Новости   \n3   Взрыв газа произошел в одной из квартир пятиэт...                 МЧС   \n4   Взрыв газа произошел в одной из квартир пятиэт...              РЕН ТВ   \n5   Взрыв газа произошел в одной из квартир пятиэт...                ТАСС   \n6   Взрыв газа произошел в одной из квартир пятиэт...          Пятигорске   \n7   Взрыв газа произошел в одной из квартир пятиэт...                 МЧС   \n8   Взрыв газа произошел в одной из квартир пятиэт...                 РБК   \n9   Взрыв газа произошел в одной из квартир пятиэт...            Telegram   \n10  Взрыв газа произошел в одной из квартир пятиэт...           Зеленский   \n11  Взрыв газа произошел в одной из квартир пятиэт...              Трампа   \n12  Взрыв газа произошел в одной из квартир пятиэт...             Украину   \n13  Взрыв газа произошел в одной из квартир пятиэт...              Песков   \n14  Взрыв газа произошел в одной из квартир пятиэт...               Трамп   \n15  Взрыв газа произошел в одной из квартир пятиэт...              России   \n16  Взрыв газа произошел в одной из квартир пятиэт...                Иран   \n17  Взрыв газа произошел в одной из квартир пятиэт...                 США   \n18  Взрыв газа произошел в одной из квартир пятиэт...                 США   \n19  Взрыв газа произошел в одной из квартир пятиэт...               Китая   \n20  Взрыв газа произошел в одной из квартир пятиэт...               Китай   \n21  Взрыв газа произошел в одной из квартир пятиэт...                 США   \n22  Взрыв газа произошел в одной из квартир пятиэт...             Reuters   \n23  Взрыв газа произошел в одной из квартир пятиэт...    Санкт-Петербурга   \n24  Взрыв газа произошел в одной из квартир пятиэт...           Рэй Далио   \n25  Взрыв газа произошел в одной из квартир пятиэт...                 США   \n26  Взрыв газа произошел в одной из квартир пятиэт...              Трампа   \n27  Взрыв газа произошел в одной из квартир пятиэт...              Россию   \n28  В Прионежском районе Карелии шесть снегоходов ...  Прионежском районе   \n29  В Прионежском районе Карелии шесть снегоходов ...             Карелии   \n30  В Прионежском районе Карелии шесть снегоходов ...           Авиаретро   \n31  В Прионежском районе Карелии шесть снегоходов ...           Кончезеро   \n32  В Прионежском районе Карелии шесть снегоходов ...                 МВД   \n33  В Прионежском районе Карелии шесть снегоходов ...                 МЧС   \n34  В Прионежском районе Карелии шесть снегоходов ...            Приморье   \n35  В Прионежском районе Карелии шесть снегоходов ...          Раздольной   \n36  В Прионежском районе Карелии шесть снегоходов ...                 МЧС   \n37  В Прионежском районе Карелии шесть снегоходов ...              России   \n38  В Прионежском районе Карелии шесть снегоходов ...            Autonews   \n39  В Прионежском районе Карелии шесть снегоходов ...                 РБК   \n40  В Прионежском районе Карелии шесть снегоходов ...            Telegram   \n41  В Прионежском районе Карелии шесть снегоходов ...           Зеленский   \n42  В Прионежском районе Карелии шесть снегоходов ...              Трампа   \n43  В Прионежском районе Карелии шесть снегоходов ...             Украину   \n44  В Прионежском районе Карелии шесть снегоходов ...              Песков   \n45  В Прионежском районе Карелии шесть снегоходов ...               Трамп   \n46  В Прионежском районе Карелии шесть снегоходов ...              России   \n47  В Прионежском районе Карелии шесть снегоходов ...                Иран   \n48  В Прионежском районе Карелии шесть снегоходов ...                 США   \n49  В Прионежском районе Карелии шесть снегоходов ...                 США   \n50  В Прионежском районе Карелии шесть снегоходов ...               Китая   \n51  В Прионежском районе Карелии шесть снегоходов ...               Китай   \n52  В Прионежском районе Карелии шесть снегоходов ...                 США   \n53  В Прионежском районе Карелии шесть снегоходов ...             Reuters   \n54  В Прионежском районе Карелии шесть снегоходов ...    Санкт-Петербурга   \n55  В Прионежском районе Карелии шесть снегоходов ...           Рэй Далио   \n56  В Прионежском районе Карелии шесть снегоходов ...                 США   \n57  В Прионежском районе Карелии шесть снегоходов ...              Трампа   \n58  В Прионежском районе Карелии шесть снегоходов ...              Россию   \n\n   entity_type entity_normal_form wikidata_qid  start   end  \n0          LOC        луначарский      Q747751     60    72  \n1          LOC       петрозаводск        Q1895     75    88  \n2          ORG        РИА Новости      Q821172    152   163  \n3          ORG                МЧС     Q2624171    194   197  \n4          ORG             РЕН ТВ     Q1479649    446   452  \n5          ORG               ТАСС      Q223799    577   581  \n6          LOC          пятигорск       Q41970    669   679  \n7          ORG                МЧС     Q2624171    935   938  \n8          ORG                РБК      Q629733   1004  1007  \n9          ORG           Telegram    Q15616276   1010  1018  \n10         PER          зеленский    Q12806610   1053  1062  \n11         PER              трамп       Q22686   1071  1077  \n12         LOC            украина         Q212   1087  1094  \n13         PER             песков     Q4359696   1095  1101  \n14         PER              трамп       Q22686   1174  1179  \n15         LOC             россия         Q159   1229  1235  \n16         LOC               иран         Q794   1282  1286  \n17         LOC                сша          Q30   1289  1292  \n18         LOC                сша          Q30   1363  1366  \n19         LOC              китай         Q148   1369  1374  \n20         LOC              китай         Q148   1395  1400  \n21         LOC                сша          Q30   1443  1446  \n22         ORG            Reuters      Q130879   1449  1456  \n23         LOC    санкт-петербург         Q656   1481  1497  \n24         PER          рэй далио     Q7297378   1505  1514  \n25         LOC                сша          Q30   1587  1590  \n26         PER              трамп       Q22686   1599  1605  \n27         LOC             россия         Q159   1637  1643  \n28         LOC  прионежский район     Q1036155      2    20  \n29         LOC            карелия        Q1914     21    28  \n30         ORG          Авиаретро          NaN     89    98  \n31         LOC          кончезеро     Q4231946    300   309  \n32         ORG                МВД     Q6589202    350   353  \n33         ORG                МЧС     Q2624171    447   450  \n34         LOC           приморье        Q4341    577   585  \n35         LOC         раздольный    Q13640549    625   635  \n36         ORG                МЧС     Q2624171    721   724  \n37         LOC             россия         Q159    725   731  \n38         ORG           Autonews          NaN    745   753  \n39         ORG                РБК      Q629733    981   984  \n40         ORG           Telegram    Q15616276    987   995  \n41         PER          зеленский    Q12806610   1030  1039  \n42         PER              трамп       Q22686   1048  1054  \n43         LOC            украина         Q212   1064  1071  \n44         PER             песков     Q4359696   1072  1078  \n45         PER              трамп       Q22686   1151  1156  \n46         LOC             россия         Q159   1206  1212  \n47         LOC               иран         Q794   1259  1263  \n48         LOC                сша          Q30   1266  1269  \n49         LOC                сша          Q30   1340  1343  \n50         LOC              китай         Q148   1346  1351  \n51         LOC              китай         Q148   1372  1377  \n52         LOC                сша          Q30   1420  1423  \n53         ORG            Reuters      Q130879   1426  1433  \n54         LOC    санкт-петербург         Q656   1458  1474  \n55         PER          рэй далио     Q7297378   1482  1491  \n56         LOC                сша          Q30   1564  1567  \n57         PER              трамп       Q22686   1576  1582  \n58         LOC             россия         Q159   1614  1620  ",
            "text/html": "<div>\n<style scoped>\n    .dataframe tbody tr th:only-of-type {\n        vertical-align: middle;\n    }\n\n    .dataframe tbody tr th {\n        vertical-align: top;\n    }\n\n    .dataframe thead th {\n        text-align: right;\n    }\n</style>\n<table border=\"1\" class=\"dataframe\">\n  <thead>\n    <tr style=\"text-align: right;\">\n      <th></th>\n      <th>original_text</th>\n      <th>entity_text</th>\n      <th>entity_type</th>\n      <th>entity_normal_form</th>\n      <th>wikidata_qid</th>\n      <th>start</th>\n      <th>end</th>\n    </tr>\n  </thead>\n  <tbody>\n    <tr>\n      <th>0</th>\n      <td>Взрыв газа произошел в одной из квартир пятиэт...</td>\n      <td>Луначарского</td>\n      <td>LOC</td>\n      <td>луначарский</td>\n      <td>Q747751</td>\n      <td>60</td>\n      <td>72</td>\n    </tr>\n    <tr>\n      <th>1</th>\n      <td>Взрыв газа произошел в одной из квартир пятиэт...</td>\n      <td>Петрозаводске</td>\n      <td>LOC</td>\n      <td>петрозаводск</td>\n      <td>Q1895</td>\n      <td>75</td>\n      <td>88</td>\n    </tr>\n    <tr>\n      <th>2</th>\n      <td>Взрыв газа произошел в одной из квартир пятиэт...</td>\n      <td>РИА Новости</td>\n      <td>ORG</td>\n      <td>РИА Новости</td>\n      <td>Q821172</td>\n      <td>152</td>\n      <td>163</td>\n    </tr>\n    <tr>\n      <th>3</th>\n      <td>Взрыв газа произошел в одной из квартир пятиэт...</td>\n      <td>МЧС</td>\n      <td>ORG</td>\n      <td>МЧС</td>\n      <td>Q2624171</td>\n      <td>194</td>\n      <td>197</td>\n    </tr>\n    <tr>\n      <th>4</th>\n      <td>Взрыв газа произошел в одной из квартир пятиэт...</td>\n      <td>РЕН ТВ</td>\n      <td>ORG</td>\n      <td>РЕН ТВ</td>\n      <td>Q1479649</td>\n      <td>446</td>\n      <td>452</td>\n    </tr>\n    <tr>\n      <th>5</th>\n      <td>Взрыв газа произошел в одной из квартир пятиэт...</td>\n      <td>ТАСС</td>\n      <td>ORG</td>\n      <td>ТАСС</td>\n      <td>Q223799</td>\n      <td>577</td>\n      <td>581</td>\n    </tr>\n    <tr>\n      <th>6</th>\n      <td>Взрыв газа произошел в одной из квартир пятиэт...</td>\n      <td>Пятигорске</td>\n      <td>LOC</td>\n      <td>пятигорск</td>\n      <td>Q41970</td>\n      <td>669</td>\n      <td>679</td>\n    </tr>\n    <tr>\n      <th>7</th>\n      <td>Взрыв газа произошел в одной из квартир пятиэт...</td>\n      <td>МЧС</td>\n      <td>ORG</td>\n      <td>МЧС</td>\n      <td>Q2624171</td>\n      <td>935</td>\n      <td>938</td>\n    </tr>\n    <tr>\n      <th>8</th>\n      <td>Взрыв газа произошел в одной из квартир пятиэт...</td>\n      <td>РБК</td>\n      <td>ORG</td>\n      <td>РБК</td>\n      <td>Q629733</td>\n      <td>1004</td>\n      <td>1007</td>\n    </tr>\n    <tr>\n      <th>9</th>\n      <td>Взрыв газа произошел в одной из квартир пятиэт...</td>\n      <td>Telegram</td>\n      <td>ORG</td>\n      <td>Telegram</td>\n      <td>Q15616276</td>\n      <td>1010</td>\n      <td>1018</td>\n    </tr>\n    <tr>\n      <th>10</th>\n      <td>Взрыв газа произошел в одной из квартир пятиэт...</td>\n      <td>Зеленский</td>\n      <td>PER</td>\n      <td>зеленский</td>\n      <td>Q12806610</td>\n      <td>1053</td>\n      <td>1062</td>\n    </tr>\n    <tr>\n      <th>11</th>\n      <td>Взрыв газа произошел в одной из квартир пятиэт...</td>\n      <td>Трампа</td>\n      <td>PER</td>\n      <td>трамп</td>\n      <td>Q22686</td>\n      <td>1071</td>\n      <td>1077</td>\n    </tr>\n    <tr>\n      <th>12</th>\n      <td>Взрыв газа произошел в одной из квартир пятиэт...</td>\n      <td>Украину</td>\n      <td>LOC</td>\n      <td>украина</td>\n      <td>Q212</td>\n      <td>1087</td>\n      <td>1094</td>\n    </tr>\n    <tr>\n      <th>13</th>\n      <td>Взрыв газа произошел в одной из квартир пятиэт...</td>\n      <td>Песков</td>\n      <td>PER</td>\n      <td>песков</td>\n      <td>Q4359696</td>\n      <td>1095</td>\n      <td>1101</td>\n    </tr>\n    <tr>\n      <th>14</th>\n      <td>Взрыв газа произошел в одной из квартир пятиэт...</td>\n      <td>Трамп</td>\n      <td>PER</td>\n      <td>трамп</td>\n      <td>Q22686</td>\n      <td>1174</td>\n      <td>1179</td>\n    </tr>\n    <tr>\n      <th>15</th>\n      <td>Взрыв газа произошел в одной из квартир пятиэт...</td>\n      <td>России</td>\n      <td>LOC</td>\n      <td>россия</td>\n      <td>Q159</td>\n      <td>1229</td>\n      <td>1235</td>\n    </tr>\n    <tr>\n      <th>16</th>\n      <td>Взрыв газа произошел в одной из квартир пятиэт...</td>\n      <td>Иран</td>\n      <td>LOC</td>\n      <td>иран</td>\n      <td>Q794</td>\n      <td>1282</td>\n      <td>1286</td>\n    </tr>\n    <tr>\n      <th>17</th>\n      <td>Взрыв газа произошел в одной из квартир пятиэт...</td>\n      <td>США</td>\n      <td>LOC</td>\n      <td>сша</td>\n      <td>Q30</td>\n      <td>1289</td>\n      <td>1292</td>\n    </tr>\n    <tr>\n      <th>18</th>\n      <td>Взрыв газа произошел в одной из квартир пятиэт...</td>\n      <td>США</td>\n      <td>LOC</td>\n      <td>сша</td>\n      <td>Q30</td>\n      <td>1363</td>\n      <td>1366</td>\n    </tr>\n    <tr>\n      <th>19</th>\n      <td>Взрыв газа произошел в одной из квартир пятиэт...</td>\n      <td>Китая</td>\n      <td>LOC</td>\n      <td>китай</td>\n      <td>Q148</td>\n      <td>1369</td>\n      <td>1374</td>\n    </tr>\n    <tr>\n      <th>20</th>\n      <td>Взрыв газа произошел в одной из квартир пятиэт...</td>\n      <td>Китай</td>\n      <td>LOC</td>\n      <td>китай</td>\n      <td>Q148</td>\n      <td>1395</td>\n      <td>1400</td>\n    </tr>\n    <tr>\n      <th>21</th>\n      <td>Взрыв газа произошел в одной из квартир пятиэт...</td>\n      <td>США</td>\n      <td>LOC</td>\n      <td>сша</td>\n      <td>Q30</td>\n      <td>1443</td>\n      <td>1446</td>\n    </tr>\n    <tr>\n      <th>22</th>\n      <td>Взрыв газа произошел в одной из квартир пятиэт...</td>\n      <td>Reuters</td>\n      <td>ORG</td>\n      <td>Reuters</td>\n      <td>Q130879</td>\n      <td>1449</td>\n      <td>1456</td>\n    </tr>\n    <tr>\n      <th>23</th>\n      <td>Взрыв газа произошел в одной из квартир пятиэт...</td>\n      <td>Санкт-Петербурга</td>\n      <td>LOC</td>\n      <td>санкт-петербург</td>\n      <td>Q656</td>\n      <td>1481</td>\n      <td>1497</td>\n    </tr>\n    <tr>\n      <th>24</th>\n      <td>Взрыв газа произошел в одной из квартир пятиэт...</td>\n      <td>Рэй Далио</td>\n      <td>PER</td>\n      <td>рэй далио</td>\n      <td>Q7297378</td>\n      <td>1505</td>\n      <td>1514</td>\n    </tr>\n    <tr>\n      <th>25</th>\n      <td>Взрыв газа произошел в одной из квартир пятиэт...</td>\n      <td>США</td>\n      <td>LOC</td>\n      <td>сша</td>\n      <td>Q30</td>\n      <td>1587</td>\n      <td>1590</td>\n    </tr>\n    <tr>\n      <th>26</th>\n      <td>Взрыв газа произошел в одной из квартир пятиэт...</td>\n      <td>Трампа</td>\n      <td>PER</td>\n      <td>трамп</td>\n      <td>Q22686</td>\n      <td>1599</td>\n      <td>1605</td>\n    </tr>\n    <tr>\n      <th>27</th>\n      <td>Взрыв газа произошел в одной из квартир пятиэт...</td>\n      <td>Россию</td>\n      <td>LOC</td>\n      <td>россия</td>\n      <td>Q159</td>\n      <td>1637</td>\n      <td>1643</td>\n    </tr>\n    <tr>\n      <th>28</th>\n      <td>В Прионежском районе Карелии шесть снегоходов ...</td>\n      <td>Прионежском районе</td>\n      <td>LOC</td>\n      <td>прионежский район</td>\n      <td>Q1036155</td>\n      <td>2</td>\n      <td>20</td>\n    </tr>\n    <tr>\n      <th>29</th>\n      <td>В Прионежском районе Карелии шесть снегоходов ...</td>\n      <td>Карелии</td>\n      <td>LOC</td>\n      <td>карелия</td>\n      <td>Q1914</td>\n      <td>21</td>\n      <td>28</td>\n    </tr>\n    <tr>\n      <th>30</th>\n      <td>В Прионежском районе Карелии шесть снегоходов ...</td>\n      <td>Авиаретро</td>\n      <td>ORG</td>\n      <td>Авиаретро</td>\n      <td>NaN</td>\n      <td>89</td>\n      <td>98</td>\n    </tr>\n    <tr>\n      <th>31</th>\n      <td>В Прионежском районе Карелии шесть снегоходов ...</td>\n      <td>Кончезеро</td>\n      <td>LOC</td>\n      <td>кончезеро</td>\n      <td>Q4231946</td>\n      <td>300</td>\n      <td>309</td>\n    </tr>\n    <tr>\n      <th>32</th>\n      <td>В Прионежском районе Карелии шесть снегоходов ...</td>\n      <td>МВД</td>\n      <td>ORG</td>\n      <td>МВД</td>\n      <td>Q6589202</td>\n      <td>350</td>\n      <td>353</td>\n    </tr>\n    <tr>\n      <th>33</th>\n      <td>В Прионежском районе Карелии шесть снегоходов ...</td>\n      <td>МЧС</td>\n      <td>ORG</td>\n      <td>МЧС</td>\n      <td>Q2624171</td>\n      <td>447</td>\n      <td>450</td>\n    </tr>\n    <tr>\n      <th>34</th>\n      <td>В Прионежском районе Карелии шесть снегоходов ...</td>\n      <td>Приморье</td>\n      <td>LOC</td>\n      <td>приморье</td>\n      <td>Q4341</td>\n      <td>577</td>\n      <td>585</td>\n    </tr>\n    <tr>\n      <th>35</th>\n      <td>В Прионежском районе Карелии шесть снегоходов ...</td>\n      <td>Раздольной</td>\n      <td>LOC</td>\n      <td>раздольный</td>\n      <td>Q13640549</td>\n      <td>625</td>\n      <td>635</td>\n    </tr>\n    <tr>\n      <th>36</th>\n      <td>В Прионежском районе Карелии шесть снегоходов ...</td>\n      <td>МЧС</td>\n      <td>ORG</td>\n      <td>МЧС</td>\n      <td>Q2624171</td>\n      <td>721</td>\n      <td>724</td>\n    </tr>\n    <tr>\n      <th>37</th>\n      <td>В Прионежском районе Карелии шесть снегоходов ...</td>\n      <td>России</td>\n      <td>LOC</td>\n      <td>россия</td>\n      <td>Q159</td>\n      <td>725</td>\n      <td>731</td>\n    </tr>\n    <tr>\n      <th>38</th>\n      <td>В Прионежском районе Карелии шесть снегоходов ...</td>\n      <td>Autonews</td>\n      <td>ORG</td>\n      <td>Autonews</td>\n      <td>NaN</td>\n      <td>745</td>\n      <td>753</td>\n    </tr>\n    <tr>\n      <th>39</th>\n      <td>В Прионежском районе Карелии шесть снегоходов ...</td>\n      <td>РБК</td>\n      <td>ORG</td>\n      <td>РБК</td>\n      <td>Q629733</td>\n      <td>981</td>\n      <td>984</td>\n    </tr>\n    <tr>\n      <th>40</th>\n      <td>В Прионежском районе Карелии шесть снегоходов ...</td>\n      <td>Telegram</td>\n      <td>ORG</td>\n      <td>Telegram</td>\n      <td>Q15616276</td>\n      <td>987</td>\n      <td>995</td>\n    </tr>\n    <tr>\n      <th>41</th>\n      <td>В Прионежском районе Карелии шесть снегоходов ...</td>\n      <td>Зеленский</td>\n      <td>PER</td>\n      <td>зеленский</td>\n      <td>Q12806610</td>\n      <td>1030</td>\n      <td>1039</td>\n    </tr>\n    <tr>\n      <th>42</th>\n      <td>В Прионежском районе Карелии шесть снегоходов ...</td>\n      <td>Трампа</td>\n      <td>PER</td>\n      <td>трамп</td>\n      <td>Q22686</td>\n      <td>1048</td>\n      <td>1054</td>\n    </tr>\n    <tr>\n      <th>43</th>\n      <td>В Прионежском районе Карелии шесть снегоходов ...</td>\n      <td>Украину</td>\n      <td>LOC</td>\n      <td>украина</td>\n      <td>Q212</td>\n      <td>1064</td>\n      <td>1071</td>\n    </tr>\n    <tr>\n      <th>44</th>\n      <td>В Прионежском районе Карелии шесть снегоходов ...</td>\n      <td>Песков</td>\n      <td>PER</td>\n      <td>песков</td>\n      <td>Q4359696</td>\n      <td>1072</td>\n      <td>1078</td>\n    </tr>\n    <tr>\n      <th>45</th>\n      <td>В Прионежском районе Карелии шесть снегоходов ...</td>\n      <td>Трамп</td>\n      <td>PER</td>\n      <td>трамп</td>\n      <td>Q22686</td>\n      <td>1151</td>\n      <td>1156</td>\n    </tr>\n    <tr>\n      <th>46</th>\n      <td>В Прионежском районе Карелии шесть снегоходов ...</td>\n      <td>России</td>\n      <td>LOC</td>\n      <td>россия</td>\n      <td>Q159</td>\n      <td>1206</td>\n      <td>1212</td>\n    </tr>\n    <tr>\n      <th>47</th>\n      <td>В Прионежском районе Карелии шесть снегоходов ...</td>\n      <td>Иран</td>\n      <td>LOC</td>\n      <td>иран</td>\n      <td>Q794</td>\n      <td>1259</td>\n      <td>1263</td>\n    </tr>\n    <tr>\n      <th>48</th>\n      <td>В Прионежском районе Карелии шесть снегоходов ...</td>\n      <td>США</td>\n      <td>LOC</td>\n      <td>сша</td>\n      <td>Q30</td>\n      <td>1266</td>\n      <td>1269</td>\n    </tr>\n    <tr>\n      <th>49</th>\n      <td>В Прионежском районе Карелии шесть снегоходов ...</td>\n      <td>США</td>\n      <td>LOC</td>\n      <td>сша</td>\n      <td>Q30</td>\n      <td>1340</td>\n      <td>1343</td>\n    </tr>\n    <tr>\n      <th>50</th>\n      <td>В Прионежском районе Карелии шесть снегоходов ...</td>\n      <td>Китая</td>\n      <td>LOC</td>\n      <td>китай</td>\n      <td>Q148</td>\n      <td>1346</td>\n      <td>1351</td>\n    </tr>\n    <tr>\n      <th>51</th>\n      <td>В Прионежском районе Карелии шесть снегоходов ...</td>\n      <td>Китай</td>\n      <td>LOC</td>\n      <td>китай</td>\n      <td>Q148</td>\n      <td>1372</td>\n      <td>1377</td>\n    </tr>\n    <tr>\n      <th>52</th>\n      <td>В Прионежском районе Карелии шесть снегоходов ...</td>\n      <td>США</td>\n      <td>LOC</td>\n      <td>сша</td>\n      <td>Q30</td>\n      <td>1420</td>\n      <td>1423</td>\n    </tr>\n    <tr>\n      <th>53</th>\n      <td>В Прионежском районе Карелии шесть снегоходов ...</td>\n      <td>Reuters</td>\n      <td>ORG</td>\n      <td>Reuters</td>\n      <td>Q130879</td>\n      <td>1426</td>\n      <td>1433</td>\n    </tr>\n    <tr>\n      <th>54</th>\n      <td>В Прионежском районе Карелии шесть снегоходов ...</td>\n      <td>Санкт-Петербурга</td>\n      <td>LOC</td>\n      <td>санкт-петербург</td>\n      <td>Q656</td>\n      <td>1458</td>\n      <td>1474</td>\n    </tr>\n    <tr>\n      <th>55</th>\n      <td>В Прионежском районе Карелии шесть снегоходов ...</td>\n      <td>Рэй Далио</td>\n      <td>PER</td>\n      <td>рэй далио</td>\n      <td>Q7297378</td>\n      <td>1482</td>\n      <td>1491</td>\n    </tr>\n    <tr>\n      <th>56</th>\n      <td>В Прионежском районе Карелии шесть снегоходов ...</td>\n      <td>США</td>\n      <td>LOC</td>\n      <td>сша</td>\n      <td>Q30</td>\n      <td>1564</td>\n      <td>1567</td>\n    </tr>\n    <tr>\n      <th>57</th>\n      <td>В Прионежском районе Карелии шесть снегоходов ...</td>\n      <td>Трампа</td>\n      <td>PER</td>\n      <td>трамп</td>\n      <td>Q22686</td>\n      <td>1576</td>\n      <td>1582</td>\n    </tr>\n    <tr>\n      <th>58</th>\n      <td>В Прионежском районе Карелии шесть снегоходов ...</td>\n      <td>Россию</td>\n      <td>LOC</td>\n      <td>россия</td>\n      <td>Q159</td>\n      <td>1614</td>\n      <td>1620</td>\n    </tr>\n  </tbody>\n</table>\n</div>"
          },
          "metadata": {}
        }
      ],
      "execution_count": null
    }
  ]
}